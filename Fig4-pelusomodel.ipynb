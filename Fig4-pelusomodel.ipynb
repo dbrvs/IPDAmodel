{
 "cells": [
  {
   "cell_type": "code",
   "execution_count": 1,
   "metadata": {
    "collapsed": true
   },
   "outputs": [],
   "source": [
    "#!/usr/bin/python\n",
    "%matplotlib inline\n",
    "\n",
    "import numpy as np\n",
    "import matplotlib.pyplot as plt\n",
    "import pandas as pd\n",
    "import scipy.stats as st\n",
    "import numpy as np\n",
    "import seaborn as sns\n",
    "import scipy.optimize as opt\n",
    "sns.set_style(\"ticks\")\n",
    "\n",
    "#for mem\n",
    "import statsmodels.api as sm\n",
    "import statsmodels.formula.api as smf\n"
   ]
  },
  {
   "cell_type": "code",
   "execution_count": 3,
   "metadata": {
    "collapsed": false
   },
   "outputs": [
    {
     "name": "stderr",
     "output_type": "stream",
     "text": [
      "/Applications/anaconda/lib/python3.6/site-packages/ipykernel/__main__.py:4: RuntimeWarning: divide by zero encountered in log10\n"
     ]
    },
    {
     "data": {
      "text/html": [
       "<div>\n",
       "<table border=\"1\" class=\"dataframe\">\n",
       "  <thead>\n",
       "    <tr style=\"text-align: right;\">\n",
       "      <th></th>\n",
       "      <th>pid</th>\n",
       "      <th>IntactFreq</th>\n",
       "      <th>Defect3Freq</th>\n",
       "      <th>Defect5Freq</th>\n",
       "      <th>suppressYears</th>\n",
       "      <th>lint1</th>\n",
       "      <th>ltot1</th>\n",
       "      <th>ldef1</th>\n",
       "      <th>time_mo_ART</th>\n",
       "    </tr>\n",
       "  </thead>\n",
       "  <tbody>\n",
       "    <tr>\n",
       "      <th>0</th>\n",
       "      <td>1079</td>\n",
       "      <td>283.861871</td>\n",
       "      <td>7356.997366</td>\n",
       "      <td>0.000000</td>\n",
       "      <td>0.000000</td>\n",
       "      <td>2.453107</td>\n",
       "      <td>3.883142</td>\n",
       "      <td>3.866701</td>\n",
       "      <td>0.000000</td>\n",
       "    </tr>\n",
       "    <tr>\n",
       "      <th>1</th>\n",
       "      <td>1079</td>\n",
       "      <td>16.107981</td>\n",
       "      <td>437.600138</td>\n",
       "      <td>0.000000</td>\n",
       "      <td>7.512663</td>\n",
       "      <td>1.207041</td>\n",
       "      <td>2.656777</td>\n",
       "      <td>2.641077</td>\n",
       "      <td>90.151951</td>\n",
       "    </tr>\n",
       "    <tr>\n",
       "      <th>2</th>\n",
       "      <td>1079</td>\n",
       "      <td>6.920407</td>\n",
       "      <td>315.147613</td>\n",
       "      <td>5.792804</td>\n",
       "      <td>10.847365</td>\n",
       "      <td>0.840132</td>\n",
       "      <td>2.515690</td>\n",
       "      <td>2.506424</td>\n",
       "      <td>130.168378</td>\n",
       "    </tr>\n",
       "    <tr>\n",
       "      <th>3</th>\n",
       "      <td>1079</td>\n",
       "      <td>0.000000</td>\n",
       "      <td>356.276969</td>\n",
       "      <td>18.917361</td>\n",
       "      <td>12.709103</td>\n",
       "      <td>-inf</td>\n",
       "      <td>2.574256</td>\n",
       "      <td>2.574256</td>\n",
       "      <td>152.509240</td>\n",
       "    </tr>\n",
       "    <tr>\n",
       "      <th>4</th>\n",
       "      <td>1098</td>\n",
       "      <td>5828.408984</td>\n",
       "      <td>1211.705014</td>\n",
       "      <td>0.000000</td>\n",
       "      <td>0.268309</td>\n",
       "      <td>3.765550</td>\n",
       "      <td>3.847580</td>\n",
       "      <td>3.083397</td>\n",
       "      <td>3.219713</td>\n",
       "    </tr>\n",
       "  </tbody>\n",
       "</table>\n",
       "</div>"
      ],
      "text/plain": [
       "    pid   IntactFreq  Defect3Freq  Defect5Freq  suppressYears     lint1  \\\n",
       "0  1079   283.861871  7356.997366     0.000000       0.000000  2.453107   \n",
       "1  1079    16.107981   437.600138     0.000000       7.512663  1.207041   \n",
       "2  1079     6.920407   315.147613     5.792804      10.847365  0.840132   \n",
       "3  1079     0.000000   356.276969    18.917361      12.709103      -inf   \n",
       "4  1098  5828.408984  1211.705014     0.000000       0.268309  3.765550   \n",
       "\n",
       "      ltot1     ldef1  time_mo_ART  \n",
       "0  3.883142  3.866701     0.000000  \n",
       "1  2.656777  2.641077    90.151951  \n",
       "2  2.515690  2.506424   130.168378  \n",
       "3  2.574256  2.574256   152.509240  \n",
       "4  3.847580  3.083397     3.219713  "
      ]
     },
     "execution_count": 3,
     "metadata": {},
     "output_type": "execute_result"
    }
   ],
   "source": [
    "df1 = pd.read_excel('data/2022-05-06 SCOPE IPDA Data.xlsx')\n",
    "\n",
    "#adjust some columns to add logs\n",
    "df1['lint1']=np.log10(df1['IntactFreq'])\n",
    "df1['ltot1']=np.log10(df1['IntactFreq']+df1['Defect3Freq']+df1['Defect5Freq'])\n",
    "df1['ldef1']=np.log10(df1['Defect3Freq']+df1['Defect5Freq'])\n",
    "\n",
    "df1['time_mo_ART'] = df1['suppressYears']*12\n",
    "\n",
    "df1.head()"
   ]
  },
  {
   "cell_type": "code",
   "execution_count": 4,
   "metadata": {
    "collapsed": true
   },
   "outputs": [],
   "source": [
    "#drop first phase, 1yr?\n",
    "\n",
    "df1=df1[df1['suppressYears']>1]"
   ]
  },
  {
   "cell_type": "code",
   "execution_count": 5,
   "metadata": {
    "collapsed": false
   },
   "outputs": [
    {
     "name": "stderr",
     "output_type": "stream",
     "text": [
      "/Applications/anaconda/lib/python3.6/site-packages/pandas/core/indexing.py:141: SettingWithCopyWarning: \n",
      "A value is trying to be set on a copy of a slice from a DataFrame\n",
      "\n",
      "See the caveats in the documentation: http://pandas.pydata.org/pandas-docs/stable/indexing.html#indexing-view-versus-copy\n",
      "  self._setitem_with_indexer(indexer, value)\n"
     ]
    }
   ],
   "source": [
    "long_df = pd.melt(df1,id_vars=['pid','time_mo_ART'],value_name='obs',\n",
    "                  value_vars=['lint1','ldef1'],var_name='typeobs')\n",
    "\n",
    "#deal with some negative in intacts\n",
    "long_df['cens']=0\n",
    "long_df['cens'].iloc[np.where(long_df['obs']==-np.inf)[0]]=0.1\n",
    "\n",
    "long_df = long_df.replace(-np.inf,1)\n",
    "long_df.to_csv('pelusolongformonolix.csv')\n"
   ]
  },
  {
   "cell_type": "code",
   "execution_count": 6,
   "metadata": {
    "collapsed": false
   },
   "outputs": [],
   "source": [
    "#fit use ls\n",
    "\n",
    "dffit = df1.replace(-np.inf,np.nan)\n",
    "\n",
    "dffit=dffit.dropna()\n",
    "\n",
    "minmo=12 #minimum months\n",
    "\n",
    "dffit=dffit[dffit['time_mo_ART']>minmo]\n",
    "\n",
    "td = dffit['time_mo_ART'].values\n",
    "Id = dffit['lint1'].values\n",
    "Dd = dffit['ldef1'].values\n",
    "    \n",
    "ts=np.linspace(minmo,240,100)\n",
    "\n",
    "#function to output\n",
    "def output_model(x):\n",
    "    \n",
    "    I0,D0,thI,thD,f=x\n",
    "    \n",
    "    I=I0*np.exp(-thI*ts)\n",
    "    D=D0*np.exp(-thD*ts)\n",
    "    Iobs = I + f*D\n",
    "    \n",
    "    return I,D,Iobs\n",
    "\n",
    "#function to fit PK individual level data\n",
    "def score_model(x):\n",
    "    \n",
    "    I0,D0,thI,thD,f=x\n",
    "    \n",
    "    I=I0*np.exp(-thI*td)\n",
    "    D=D0*np.exp(-thD*td)\n",
    "    Iobs = I + f*D\n",
    "    \n",
    "    errI = (np.log10(Iobs)-Id)**2#/np.var(Id)\n",
    "    errD = (np.log10(D)-Dd)**2#/np.var(Dd)\n",
    "    \n",
    "    RSS = np.sqrt(np.sum(errI)+np.sum(errD))\n",
    "    \n",
    "    return RSS\n",
    "\n",
    "p0= np.array([100, 1000, 0.01, 0.001, 0.05]) #initial guess of parameters\n",
    "pboundz=[[1,200],[100,10000],[0.005,0.015],[0.0001,0.005],[0,0.1]]\n",
    "\n",
    "#fit the PK data, use that the variance is in absolute units and related to concentration\n",
    "res=opt.minimize(score_model,p0,bounds=pboundz,method='L-BFGS-B',tol=1e-15)\n"
   ]
  },
  {
   "cell_type": "code",
   "execution_count": 7,
   "metadata": {
    "collapsed": false
   },
   "outputs": [
    {
     "name": "stdout",
     "output_type": "stream",
     "text": [
      "46.20981203732969 324.3997199707484\n"
     ]
    },
    {
     "data": {
      "image/png": "[encoded data removed]",
      "text/plain": [
       "<matplotlib.figure.Figure at 0x7fc9892f8e10>"
      ]
     },
     "metadata": {},
     "output_type": "display_data"
    }
   ],
   "source": [
    "#myfave = [100,1000,0.01,0.001,0.05]\n",
    "myfave=res.x.copy()\n",
    "\n",
    "print(np.log(2)/res.x[2],np.log(2)/res.x[3])\n",
    "\n",
    "I,D,Iobs = output_model(myfave)\n",
    "\n",
    "plt.figure(figsize=(7,3))\n",
    "for pid in long_df['pid'].unique():\n",
    "    tdf = long_df[long_df['pid']==pid]    \n",
    "    for itt,tt in enumerate(['lint1','ldef1']):\n",
    "        plt.subplot(121+itt)\n",
    "        plt.plot(tdf[tdf['typeobs']==tt]['time_mo_ART'],tdf[tdf['typeobs']==tt]['obs'],marker='.',alpha=0.2,color='gray')\n",
    "\n",
    "plt.subplot(121)\n",
    "\n",
    "plt.xlabel('Time (months ART)')\n",
    "plt.ylabel('log10 HIV DNA \\n copies per mil CD4+ T cells')\n",
    "plt.plot(ts,np.log10(I),color='tan',lw=3)\n",
    "plt.plot(ts,np.log10(Iobs),color='green',ls='--',lw=3)\n",
    "plt.ylim([0,4])\n",
    "plt.title('Intact')\n",
    "#plt.axvline(minmo)\n",
    "plt.xticks(np.arange(0,251,50))\n",
    "\n",
    "plt.subplot(122)\n",
    "plt.xlabel('Time (months ART)')\n",
    "#plt.ylabel('log10 Defective HIV DNA \\n copies per mil CD4+ T cells')\n",
    "plt.plot(ts,np.log10(D),color='navy',lw=3)\n",
    "#plt.title(int(score_model(myfave)))\n",
    "plt.title('Defective')\n",
    "\n",
    "plt.ylim([0,4])\n",
    "plt.xticks(np.arange(0,251,50))\n",
    "\n",
    "plt.tight_layout()\n",
    "plt.savefig('figures/pelusofit.pdf',dpi=600)"
   ]
  },
  {
   "cell_type": "code",
   "execution_count": 56,
   "metadata": {
    "collapsed": false
   },
   "outputs": [
    {
     "data": {
      "text/plain": [
       "0.9047599473955084"
      ]
     },
     "execution_count": 56,
     "metadata": {},
     "output_type": "execute_result"
    }
   ],
   "source": [
    "#calculate the R-squared!\n",
    "TSS=np.sum((Id-np.mean(Id))**2)+np.sum((Dd-np.mean(Dd))**2)\n",
    "\n",
    "1-score_model(myfave)/TSS"
   ]
  },
  {
   "cell_type": "code",
   "execution_count": 75,
   "metadata": {
    "collapsed": false
   },
   "outputs": [
    {
     "data": {
      "image/png": "[encoded data removed]",
      "text/plain": [
       "<matplotlib.figure.Figure at 0x7f8540cec6a0>"
      ]
     },
     "metadata": {},
     "output_type": "display_data"
    }
   ],
   "source": [
    "#use more probes\n",
    "\n",
    "myfave=res.x.copy()\n",
    "plt.figure(figsize=(4,3))\n",
    "for pid in long_df['pid'].unique():\n",
    "    tdf = long_df[long_df['pid']==pid]    \n",
    "    plt.plot(tdf[tdf['typeobs']=='lint1']['time_mo_ART'],tdf[tdf['typeobs']=='lint1']['obs'],marker='.',alpha=0.2,color='gray')\n",
    "\n",
    "cz=['green','tab:red','tab:purple','brown']\n",
    "for iff,ff in enumerate([0.06,0.01,0.001]):\n",
    "\n",
    "    myfave[4]=ff\n",
    "\n",
    "    I,D,Iobs = output_model(myfave)\n",
    "\n",
    "    plt.plot(ts,np.log10(I),color='tan',lw=3)\n",
    "    plt.plot(ts,np.log10(Iobs),color=cz[iff],ls='--',lw=3)\n",
    "plt.xlabel('Time (months ART)')\n",
    "plt.ylabel('log10 Intact HIV DNA \\n copies per mil CD4+ T cells')\n",
    "plt.ylim([0,4])\n",
    "plt.xticks(np.arange(0,251,50))\n",
    "\n",
    "plt.tight_layout()\n",
    "plt.savefig('figures/pelusofit_lessfalsepos.pdf',dpi=600)"
   ]
  },
  {
   "cell_type": "code",
   "execution_count": 121,
   "metadata": {
    "collapsed": false
   },
   "outputs": [
    {
     "data": {
      "text/plain": [
       "array([1.45845391e+02, 1.07345249e+03, 1.50000000e-02, 2.13670709e-03,\n",
       "       4.86420749e-02])"
      ]
     },
     "execution_count": 121,
     "metadata": {},
     "output_type": "execute_result"
    }
   ],
   "source": [
    "res.x"
   ]
  },
  {
   "cell_type": "code",
   "execution_count": 187,
   "metadata": {
    "collapsed": false
   },
   "outputs": [
    {
     "data": {
      "image/png": "[encoded data removed]",
      "text/plain": [
       "<matplotlib.figure.Figure at 0x7f85410d1cc0>"
      ]
     },
     "metadata": {},
     "output_type": "display_data"
    }
   ],
   "source": [
    "#show what happens if true is 2x faster\n",
    "\n",
    "I0=1.5e2\n",
    "D0=1e3\n",
    "thI=np.log(2)/(4*12)\n",
    "thD=2.1e-3\n",
    "f=0.05\n",
    "\n",
    "interventionmo=90\n",
    "\n",
    "ts=np.arange(0,interventionmo)\n",
    "I,D,Iobs = output_model([I0,D0,thI,thD,f])\n",
    "\n",
    "plt.figure(figsize=(4,3))\n",
    "plt.plot(ts,I,color='tan',lw=3)\n",
    "plt.plot(ts,Iobs,color='green',ls='--',lw=3)\n",
    "plt.xlabel('Time (months ART)')\n",
    "plt.ylabel('Intact HIV DNA \\n copies per mil CD4+ T cells')\n",
    "\n",
    "ts=np.arange(0,12)\n",
    "I,D,Iobs = output_model([I[-1],D[-1],thI,thD,f])\n",
    "I2,D2,Iobs2 = output_model([I[-1],D[-1],thI*2,thD,f])\n",
    "\n",
    "plt.plot(ts+interventionmo,I,color='tan',lw=3)\n",
    "plt.plot(ts+interventionmo,Iobs,color='green',ls='--',lw=3)\n",
    "\n",
    "plt.plot(ts+interventionmo,I2,color='red',lw=3)\n",
    "plt.plot(ts+interventionmo,Iobs2,color='red',ls='--',lw=3)\n",
    "\n",
    "plt.semilogy()\n",
    "plt.ylim([10,3e2])\n",
    "plt.xlim([0,105])\n",
    "#plt.axvline(12*10)\n",
    "#plt.axvline(12*11)\n",
    "#plt.fill_between([100,112],[0.1,1e3])\n",
    "\n",
    "plt.tight_layout()\n",
    "plt.savefig('figures/pelusofit_therapy.pdf',dpi=600)\n"
   ]
  },
  {
   "cell_type": "code",
   "execution_count": 188,
   "metadata": {
    "collapsed": false
   },
   "outputs": [
    {
     "data": {
      "text/plain": [
       "41.48885748333125"
      ]
     },
     "execution_count": 188,
     "metadata": {},
     "output_type": "execute_result"
    }
   ],
   "source": [
    "I[0]"
   ]
  },
  {
   "cell_type": "code",
   "execution_count": 203,
   "metadata": {
    "collapsed": false
   },
   "outputs": [
    {
     "data": {
      "text/plain": [
       "0.8408964152537145"
      ]
     },
     "execution_count": 203,
     "metadata": {},
     "output_type": "execute_result"
    }
   ],
   "source": [
    "np.exp(-np.log(2)/4)"
   ]
  },
  {
   "cell_type": "code",
   "execution_count": 189,
   "metadata": {
    "collapsed": false
   },
   "outputs": [
    {
     "data": {
      "text/plain": [
       "41.476334245319975"
      ]
     },
     "execution_count": 189,
     "metadata": {},
     "output_type": "execute_result"
    }
   ],
   "source": [
    "f*D[0]"
   ]
  },
  {
   "cell_type": "code",
   "execution_count": 191,
   "metadata": {
    "collapsed": false
   },
   "outputs": [
    {
     "data": {
      "text/plain": [
       "14.68724647386572"
      ]
     },
     "execution_count": 191,
     "metadata": {},
     "output_type": "execute_result"
    }
   ],
   "source": [
    "#true % drop in a year\n",
    "(I[0]-I[-1])/I[0]*100"
   ]
  },
  {
   "cell_type": "code",
   "execution_count": 192,
   "metadata": {
    "collapsed": false
   },
   "outputs": [
    {
     "data": {
      "text/plain": [
       "27.217340857890626"
      ]
     },
     "execution_count": 192,
     "metadata": {},
     "output_type": "execute_result"
    }
   ],
   "source": [
    "#true % drop in a year -- therapy!\n",
    "(I2[0]-I2[-1])/I2[0]*100"
   ]
  },
  {
   "cell_type": "code",
   "execution_count": 195,
   "metadata": {
    "collapsed": false
   },
   "outputs": [
    {
     "data": {
      "text/plain": [
       "8.486321260614801"
      ]
     },
     "execution_count": 195,
     "metadata": {},
     "output_type": "execute_result"
    }
   ],
   "source": [
    "#observed % drop in a year\n",
    "(Iobs[0]-Iobs[-1])/Iobs[0]*100"
   ]
  },
  {
   "cell_type": "code",
   "execution_count": 196,
   "metadata": {
    "collapsed": false
   },
   "outputs": [
    {
     "data": {
      "text/plain": [
       "13.907434574584284"
      ]
     },
     "execution_count": 196,
     "metadata": {},
     "output_type": "execute_result"
    }
   ],
   "source": [
    "#observed % drop in a year -- therapy\n",
    "(Iobs2[0]-Iobs2[-1])/Iobs2[0]*100"
   ]
  },
  {
   "cell_type": "code",
   "execution_count": 198,
   "metadata": {
    "collapsed": false
   },
   "outputs": [
    {
     "data": {
      "text/plain": [
       "-13.907434574584284"
      ]
     },
     "execution_count": 198,
     "metadata": {},
     "output_type": "execute_result"
    }
   ],
   "source": [
    "#obs difference from therapy to not after 1 year\n",
    "(Iobs2[-1]-Iobs[-1])/Iobs[-1]*100"
   ]
  },
  {
   "cell_type": "code",
   "execution_count": 199,
   "metadata": {
    "collapsed": false
   },
   "outputs": [
    {
     "data": {
      "text/plain": [
       "-27.217340857890626"
      ]
     },
     "execution_count": 199,
     "metadata": {},
     "output_type": "execute_result"
    }
   ],
   "source": [
    "#true difference from therapy to not after 1 year\n",
    "(I2[-1]-I[-1])/I[-1]*100"
   ]
  },
  {
   "cell_type": "code",
   "execution_count": 120,
   "metadata": {
    "collapsed": false
   },
   "outputs": [
    {
     "name": "stdout",
     "output_type": "stream",
     "text": [
      "84.08964152537145 70.71067811865476 49.98192634251627 49.8481367084491\n"
     ]
    }
   ],
   "source": [
    "#precise calculation for 1 year study\n",
    "\n",
    "Itrue_pct = np.exp(-np.log(2)/4*1)*100\n",
    "Iobs1_pct = np.exp(-np.log(2)/4*1)+np.exp(-np.log(2)/40*1)/2*100\n",
    "\n",
    "Itrue_therapy_pct = np.exp(-np.log(2)/2*1)*100\n",
    "Iobs1_therapy_pct = np.exp(-np.log(2)/2*1)+np.exp(-np.log(2)/40*1)/2*100\n",
    "\n",
    "print(Itrue_pct,Itrue_therapy_pct, Iobs1_pct, Iobs1_therapy_pct)"
   ]
  },
  {
   "cell_type": "code",
   "execution_count": null,
   "metadata": {
    "collapsed": true
   },
   "outputs": [],
   "source": [
    "#2 probes means 6% error\n",
    "\n",
    "#what is the error of 3 probes if the third is as conserved?"
   ]
  }
 ],
 "metadata": {
  "kernelspec": {
   "display_name": "Python 3",
   "language": "python",
   "name": "python3"
  },
  "language_info": {
   "codemirror_mode": {
    "name": "ipython",
    "version": 3
   },
   "file_extension": ".py",
   "mimetype": "text/x-python",
   "name": "python",
   "nbconvert_exporter": "python",
   "pygments_lexer": "ipython3",
   "version": "3.6.0"
  }
 },
 "nbformat": 4,
 "nbformat_minor": 2
}
